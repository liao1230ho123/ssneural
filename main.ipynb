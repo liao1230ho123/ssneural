{
  "nbformat": 4,
  "nbformat_minor": 0,
  "metadata": {
    "kernelspec": {
      "display_name": "Python 3",
      "language": "python",
      "name": "python3"
    },
    "language_info": {
      "codemirror_mode": {
        "name": "ipython",
        "version": 3
      },
      "file_extension": ".py",
      "mimetype": "text/x-python",
      "name": "python",
      "nbconvert_exporter": "python",
      "pygments_lexer": "ipython3",
      "version": "3.7.4"
    },
    "colab": {
      "name": "Untitled.ipynb",
      "provenance": [],
      "include_colab_link": true
    }
  },
  "cells": [
    {
      "cell_type": "markdown",
      "metadata": {
        "id": "view-in-github",
        "colab_type": "text"
      },
      "source": [
        "<a href=\"https://colab.research.google.com/github/liao1230ho123/ssneural/blob/master/main.ipynb\" target=\"_parent\"><img src=\"https://colab.research.google.com/assets/colab-badge.svg\" alt=\"Open In Colab\"/></a>"
      ]
    },
    {
      "cell_type": "code",
      "metadata": {
        "id": "ybvIj-8kMR3I",
        "colab_type": "code",
        "colab": {}
      },
      "source": [
        "import random\n",
        "import numpy as np"
      ],
      "execution_count": 0,
      "outputs": []
    },
    {
      "cell_type": "code",
      "metadata": {
        "id": "AfwREI3KMR3N",
        "colab_type": "code",
        "colab": {}
      },
      "source": [
        "BASE = 10\n",
        "\n",
        "#PRECISION_INTEGRAL = 1\n",
        "#PRECISION_FRACTIONAL = 6\n",
        "#Q = 10000019\n",
        "\n",
        "PRECISION_INTEGRAL = 8\n",
        "PRECISION_FRACTIONAL = 8\n",
        "Q = 293973345475167247070445277780365744413\n",
        "\n",
        "PRECISION = PRECISION_INTEGRAL + PRECISION_FRACTIONAL\n",
        "\n",
        "assert(Q > BASE**PRECISION)"
      ],
      "execution_count": 0,
      "outputs": []
    },
    {
      "cell_type": "code",
      "metadata": {
        "id": "JpMyU4BiMR3Q",
        "colab_type": "code",
        "colab": {}
      },
      "source": [
        "def encode(rational):\n",
        "    upscaled = int(rational * BASE**PRECISION_FRACTIONAL)\n",
        "    field_element = upscaled % Q\n",
        "    return field_element\n",
        "\n",
        "def decode(field_element):\n",
        "    upscaled = field_element if field_element <= Q/2 else field_element - Q\n",
        "    rational = upscaled / BASE**PRECISION_FRACTIONAL\n",
        "    return rational"
      ],
      "execution_count": 0,
      "outputs": []
    },
    {
      "cell_type": "code",
      "metadata": {
        "id": "0pPQtQs-MR3S",
        "colab_type": "code",
        "colab": {}
      },
      "source": [
        "def share(secret):\n",
        "    first  = random.randrange(Q)\n",
        "    second = random.randrange(Q)\n",
        "    third  = (secret - first - second) % Q\n",
        "    return [first, second, third]\n",
        "\n",
        "def reconstruct(sharing):\n",
        "    return sum(sharing) % Q\n",
        "\n",
        "def reshare(x):\n",
        "    Y = [ share(x[0]), share(x[1]), share(x[2]) ]\n",
        "    return [ sum(row) % Q for row in zip(*Y) ]"
      ],
      "execution_count": 0,
      "outputs": []
    },
    {
      "cell_type": "code",
      "metadata": {
        "id": "IKQ74106MR3V",
        "colab_type": "code",
        "colab": {}
      },
      "source": [
        "def add(x, y):\n",
        "    return [ (xi + yi) % Q for xi, yi in zip(x, y) ]\n",
        "\n",
        "def sub(x, y):\n",
        "    return [ (xi - yi) % Q for xi, yi in zip(x, y) ]\n",
        "    \n",
        "def imul(x, k):\n",
        "    return [ (xi * k) % Q for xi in x ]"
      ],
      "execution_count": 0,
      "outputs": []
    },
    {
      "cell_type": "code",
      "metadata": {
        "id": "PzNEC3BKMR3X",
        "colab_type": "code",
        "colab": {}
      },
      "source": [
        "INVERSE = 104491423396290281423421247963055991507 # inverse of BASE**FRACTIONAL_PRECISION\n",
        "KAPPA = 6 # leave room for five digits overflow before leakage\n",
        "\n",
        "assert((INVERSE * BASE**PRECISION_FRACTIONAL) % Q == 1)\n",
        "assert(Q > BASE**(2*PRECISION + KAPPA))\n",
        "def truncate(a):\n",
        "    # map to the positive range\n",
        "    b = add(a, share(10**(6+6-1)))\n",
        "    # apply mask known only by P0, and reconstruct masked b to P1 or P2\n",
        "    mask = random.randrange(Q) % 10**(6+6+KAPPA)\n",
        "    mask_low = mask % 10**6\n",
        "    b_masked = reconstruct(add(b, share(mask)))\n",
        "    # extract lower digits\n",
        "    b_masked_low = b_masked % 10**6\n",
        "    b_low = sub(share(b_masked_low), share(mask_low))\n",
        "    # remove lower digits\n",
        "    c = sub(a, b_low)\n",
        "    # division\n",
        "    d = imul(c, INVERSE)\n",
        "    return d"
      ],
      "execution_count": 0,
      "outputs": []
    },
    {
      "cell_type": "code",
      "metadata": {
        "id": "pMjGZmpAMR3a",
        "colab_type": "code",
        "colab": {}
      },
      "source": [
        "def mul(x, y):\n",
        "    # local computation\n",
        "    z0 = (x[0]*y[0] + x[0]*y[1] + x[1]*y[0]) % Q\n",
        "    z1 = (x[1]*y[1] + x[1]*y[2] + x[2]*y[1]) % Q\n",
        "    z2 = (x[2]*y[2] + x[2]*y[0] + x[0]*y[2]) % Q\n",
        "    # reshare and distribute\n",
        "    Z = [ share(z0), share(z1), share(z2) ]\n",
        "    w = [ sum(row) % Q for row in zip(*Z) ]\n",
        "    # bring precision back down from double to single\n",
        "    v = truncate(w)\n",
        "    return v"
      ],
      "execution_count": 0,
      "outputs": []
    },
    {
      "cell_type": "code",
      "metadata": {
        "id": "iADB41NrMR3d",
        "colab_type": "code",
        "colab": {}
      },
      "source": [
        "class SecureRational(object):\n",
        "    \n",
        "    def secure(secret):\n",
        "        z = SecureRational()\n",
        "        z.shares = share(encode(secret))\n",
        "        return z\n",
        "    \n",
        "    def reveal(self):\n",
        "        return decode(reconstruct(reshare(self.shares)))\n",
        "    \n",
        "    def __repr__(self):\n",
        "        return \"SecureRational(%f)\" % self.reveal()\n",
        "    \n",
        "    def __add__(x, y):\n",
        "        z = SecureRational()\n",
        "        z.shares = add(x.shares, y.shares)\n",
        "        return z\n",
        "    \n",
        "    def __sub__(x, y):\n",
        "        z = SecureRational()\n",
        "        z.shares = sub(x.shares, y.shares)\n",
        "        return z\n",
        "    \n",
        "    def __mul__(x, y):\n",
        "        z = SecureRational()\n",
        "        z.shares = mul(x.shares, y.shares)\n",
        "        return z\n",
        "    \n",
        "    def __pow__(x, e):\n",
        "        z = SecureRational.secure(1)\n",
        "        for _ in range(e):\n",
        "            z = z * x\n",
        "        return z"
      ],
      "execution_count": 0,
      "outputs": []
    },
    {
      "cell_type": "code",
      "metadata": {
        "id": "rGLdkkDzMR3g",
        "colab_type": "code",
        "colab": {},
        "outputId": "99357c3d-14e4-4114-8184-ea672f8f697f"
      },
      "source": [
        "x = SecureRational.secure(10)\n",
        "y = SecureRational.secure(33)\n",
        "z = x * y\n",
        "assert(z.reveal() == (10) * (33))\n",
        "print(z.reveal())\n",
        "print(x.shares)\n",
        "r = x**2\n",
        "print(r.reveal())"
      ],
      "execution_count": 0,
      "outputs": [
        {
          "output_type": "stream",
          "text": [
            "330.0\n",
            "[238179356851767236391648175683354116803, 147467239380868698954436621121541361956, 202300094717698558794805758756836010067]\n",
            "100.0\n"
          ],
          "name": "stdout"
        }
      ]
    },
    {
      "cell_type": "code",
      "metadata": {
        "id": "MA6lnkKWMR3j",
        "colab_type": "code",
        "colab": {}
      },
      "source": [
        "\n",
        "class OpenRational(object):\n",
        "    \n",
        "    def __init__(self, secret):\n",
        "        self.secret = secret\n",
        "    \n",
        "    def secure(secret):\n",
        "        return OpenRational(secret)\n",
        "    \n",
        "    def reveal(self):\n",
        "        return self.secret\n",
        "    \n",
        "    def __repr__(self):\n",
        "        return \"OpenRational(%f)\" % self.reveal()\n",
        "    \n",
        "    def __add__(x, y):\n",
        "        return OpenRational(x.secret + y.secret)\n",
        "    \n",
        "    def __sub__(x, y):\n",
        "        return OpenRational(x.secret - y.secret)\n",
        "    \n",
        "    def __mul__(x, y):\n",
        "        return OpenRational(x.secret * y.secret)\n",
        "    \n",
        "    def __pow__(x, e):\n",
        "        z = OpenRational(1)\n",
        "        for _ in range(e):\n",
        "            z = z * x\n",
        "        return z"
      ],
      "execution_count": 0,
      "outputs": []
    },
    {
      "cell_type": "code",
      "metadata": {
        "id": "gWbt0MLpMR3m",
        "colab_type": "code",
        "colab": {},
        "outputId": "3f3ac1e8-220f-497d-b650-86fcdd0a6d05"
      },
      "source": [
        "print(2*np.random.random((3,1))-1)"
      ],
      "execution_count": 0,
      "outputs": [
        {
          "output_type": "stream",
          "text": [
            "[[-0.11609057]\n",
            " [-0.5895786 ]\n",
            " [ 0.30557877]]\n"
          ],
          "name": "stdout"
        }
      ]
    },
    {
      "cell_type": "code",
      "metadata": {
        "id": "KY9jBZVSMR3o",
        "colab_type": "code",
        "colab": {}
      },
      "source": [
        "# helper functions to map array of numbers to and from secure data type\n",
        "secure = np.vectorize(lambda x: SecureRational.secure(x))\n",
        "reveal = np.vectorize(lambda x: x.reveal())"
      ],
      "execution_count": 0,
      "outputs": []
    },
    {
      "cell_type": "code",
      "metadata": {
        "id": "e3Z2Kf3DMR3q",
        "colab_type": "code",
        "colab": {}
      },
      "source": [
        "\n",
        "class TwoLayerNetwork:\n",
        "\n",
        "    def __init__(self, sigmoid):\n",
        "        self.sigmoid = sigmoid\n",
        "    \n",
        "    def train(self, X, y, iterations=1000, alpha=1):\n",
        "\n",
        "        # prepare alpha value\n",
        "        alpha = secure(alpha)\n",
        "        \n",
        "        # initial weights \n",
        "        self.synapse0 = secure(2 * np.random.random((3,1)) - 1)\n",
        "\n",
        "        # training\n",
        "        for i in range(iterations):\n",
        "\n",
        "            # forward propagation\n",
        "            layer0 = X\n",
        "            layer1 = self.sigmoid.evaluate(np.dot(layer0, self.synapse0))\n",
        "\n",
        "            # back propagation\n",
        "            layer1_error = y - layer1\n",
        "            layer1_delta = layer1_error * self.sigmoid.derive(layer1)\n",
        "            \n",
        "            # provide error feed by revealing values\n",
        "            if (i+1) % (iterations//10) == 0:\n",
        "                print(\"Error: %s\" % np.mean(np.abs(reveal(layer1_error))))\n",
        "\n",
        "            # update\n",
        "            self.synapse0 += np.dot(layer0.T, layer1_delta) * alpha\n",
        "            \n",
        "    def predict(self, X):\n",
        "        layer0 = X\n",
        "        layer1 = self.sigmoid.evaluate(np.dot(layer0, self.synapse0))\n",
        "        return layer1\n",
        "    \n",
        "    def print_weights(self):\n",
        "        print(\"Layer 0 weights: \\n%s\" % self.synapse0)"
      ],
      "execution_count": 0,
      "outputs": []
    },
    {
      "cell_type": "code",
      "metadata": {
        "id": "MglOHaH-MR3s",
        "colab_type": "code",
        "colab": {}
      },
      "source": [
        "class ThreeLayerNetwork:\n",
        "\n",
        "    def __init__(self, sigmoid):\n",
        "        self.sigmoid = sigmoid\n",
        "    \n",
        "    def train(self, X, y, iterations=1000, alpha=1):\n",
        "\n",
        "        # prepare alpha value\n",
        "        alpha = secure(alpha)\n",
        "        \n",
        "        # initial weights\n",
        "        self.synapse0 = secure(2 * np.random.random((3,4)) - 1)\n",
        "        self.synapse1 = secure(2 * np.random.random((4,1)) - 1)\n",
        "\n",
        "        # training\n",
        "        for i in range(iterations):\n",
        "    \n",
        "            # forward propagation\n",
        "            layer0 = X\n",
        "            layer1 = self.sigmoid.evaluate(np.dot(layer0, self.synapse0))\n",
        "            layer2 = self.sigmoid.evaluate(np.dot(layer1, self.synapse1))\n",
        "\n",
        "            # back propagation\n",
        "            layer2_error = y - layer2\n",
        "            layer2_delta = layer2_error * self.sigmoid.derive(layer2)\n",
        "            layer1_error = np.dot(layer2_delta, self.synapse1.T)\n",
        "            layer1_delta = layer1_error * self.sigmoid.derive(layer1)\n",
        "\n",
        "            # provide error feedback by revealing values\n",
        "            if (i+1) % (iterations//10) == 0:\n",
        "                print(\"Error: %s\" % np.mean(np.abs(reveal(layer2_error))))\n",
        "\n",
        "            # update\n",
        "            self.synapse1 += np.dot(layer1.T, layer2_delta) * alpha\n",
        "            self.synapse0 += np.dot(layer0.T, layer1_delta) * alpha\n",
        "            \n",
        "    def predict(self, X):\n",
        "        layer0 = X\n",
        "        layer1 = self.sigmoid.evaluate(np.dot(layer0, self.synapse0))\n",
        "        layer2 = self.sigmoid.evaluate(np.dot(layer1, self.synapse1))\n",
        "        return layer2\n",
        "    \n",
        "    def print_weights(self):\n",
        "        print(\"Layer 0 weights: \\n%s\" % self.synapse0)\n",
        "        print(\"Layer 1 weights: \\n%s\" % self.synapse1)"
      ],
      "execution_count": 0,
      "outputs": []
    },
    {
      "cell_type": "code",
      "metadata": {
        "id": "l_O3kxREMR3v",
        "colab_type": "code",
        "colab": {}
      },
      "source": [
        "class SigmoidMaclaurin3:\n",
        "    \n",
        "    def __init__(self):\n",
        "        ONE = SecureRational.secure(1)\n",
        "        W0  = SecureRational.secure(1/2)\n",
        "        W1  = SecureRational.secure(1/4)\n",
        "        W3  = SecureRational.secure(-1/48)\n",
        "        self.sigmoid = np.vectorize(lambda x: W0 + (x * W1) + (x**3 * W3))\n",
        "        self.sigmoid_deriv = np.vectorize(lambda x: (ONE - x) * x)\n",
        "        \n",
        "    def evaluate(self, x):\n",
        "        return self.sigmoid(x)\n",
        "\n",
        "    def derive(self, x):\n",
        "        return self.sigmoid_deriv(x)\n",
        "class SigmoidMaclaurin5:\n",
        "    \n",
        "    def __init__(self):\n",
        "        ONE = SecureRational.secure(1)\n",
        "        W0  = SecureRational.secure(1/2)\n",
        "        W1  = SecureRational.secure(1/4)\n",
        "        W3  = SecureRational.secure(-1/48)\n",
        "        W5  = SecureRational.secure(1/480)\n",
        "        self.sigmoid = np.vectorize(lambda x: W0 + (x * W1) + (x**3 * W3) + (x**5 * W5))\n",
        "        self.sigmoid_deriv = np.vectorize(lambda x:(ONE - x) * x)\n",
        "        \n",
        "    def evaluate(self, x):\n",
        "        return self.sigmoid(x)\n",
        "\n",
        "    def derive(self, x):\n",
        "        return self.sigmoid_deriv(x)\n",
        "    \n",
        "class SigmoidMaclaurin9:\n",
        "    \n",
        "    def __init__(self):\n",
        "        ONE = SecureRational.secure(1)\n",
        "        W0  = SecureRational.secure(1/2)\n",
        "        W1  = SecureRational.secure(1/4)\n",
        "        W3  = SecureRational.secure(-1/48)\n",
        "        W5  = SecureRational.secure(1/480)\n",
        "        W7  = SecureRational.secure(-17/80640)\n",
        "        W9  = SecureRational.secure(31/1451520)\n",
        "        self.sigmoid = np.vectorize(lambda x: W0 + (x * W1) + (x**3 * W3) + (x**5 * W5) + (x**7 * W7) + (x**9 * W9))\n",
        "        self.sigmoid_deriv = np.vectorize(lambda x:(ONE - x) * x)\n",
        "        \n",
        "    def evaluate(self, x):\n",
        "        return self.sigmoid(x)\n",
        "\n",
        "    def derive(self, x):\n",
        "        return self.sigmoid_deriv(x)\n",
        "    \n",
        "class SigmoidInterpolated10:\n",
        "    \n",
        "    def __init__(self):\n",
        "        ONE = SecureRational.secure(1)\n",
        "        W0  = SecureRational.secure(0.5)\n",
        "        W1  = SecureRational.secure(0.2159198015)\n",
        "        W3  = SecureRational.secure(-0.0082176259)\n",
        "        W5  = SecureRational.secure(0.0001825597)\n",
        "        W7  = SecureRational.secure(-0.0000018848)\n",
        "        W9  = SecureRational.secure(0.0000000072)\n",
        "        self.sigmoid = np.vectorize(lambda x: W0 + (x * W1) + (x**3 * W3) + (x**5 * W5) + (x**7 * W7) + (x**9 * W9))\n",
        "        self.sigmoid_deriv = np.vectorize(lambda x:(ONE - x) * x)\n",
        "        \n",
        "    def evaluate(self, x):\n",
        "        return self.sigmoid(x)\n",
        "\n",
        "    def derive(self, x):\n",
        "        return self.sigmoid_deriv(x)"
      ],
      "execution_count": 0,
      "outputs": []
    },
    {
      "cell_type": "code",
      "metadata": {
        "id": "FxzaalKYMR3x",
        "colab_type": "code",
        "colab": {}
      },
      "source": [
        "X_full = np.array([\n",
        "            [0,0,0],\n",
        "            [0,0,1],\n",
        "            [0,1,0],\n",
        "            [0,1,1],\n",
        "            [1,0,0],\n",
        "            [1,0,1],\n",
        "            [1,1,0],\n",
        "            [1,1,1]\n",
        "        ])\n",
        "\n",
        "def evaluate(network):\n",
        "    for x in X_full:\n",
        "        score = reveal(network.predict(secure(x)))\n",
        "        prediction = 1 if score > 0.5 else 0\n",
        "        print(\"Prediction on %s: %s (%.8f)\" % (x, prediction, score))"
      ],
      "execution_count": 0,
      "outputs": []
    },
    {
      "cell_type": "code",
      "metadata": {
        "id": "RV4pFqKPMR30",
        "colab_type": "code",
        "colab": {}
      },
      "source": [
        "\n",
        "X_train = np.array([\n",
        "            [0,0,1],\n",
        "            [0,1,1],\n",
        "            [1,0,1],\n",
        "            [1,1,1]\n",
        "        ])\n",
        "\n",
        "y_train = np.array([[\n",
        "            0,\n",
        "            0,\n",
        "            1,\n",
        "            1\n",
        "        ]]).T"
      ],
      "execution_count": 0,
      "outputs": []
    },
    {
      "cell_type": "code",
      "metadata": {
        "id": "gp3qQ7-sMR33",
        "colab_type": "code",
        "colab": {},
        "outputId": "9317b5f7-54c6-4956-a894-b78efa5b6139"
      },
      "source": [
        "# reseed to get reproducible results\n",
        "random.seed(1)\n",
        "np.random.seed(1)\n",
        "\n",
        "# pick approximation\n",
        "sigmoid = SigmoidMaclaurin3()\n",
        "\n",
        "# train\n",
        "network = ThreeLayerNetwork(sigmoid)\n",
        "network.train(secure(X_train), secure(y_train), 500)\n",
        "network.print_weights()\n",
        "\n",
        "# evaluate predictions\n",
        "evaluate(network)"
      ],
      "execution_count": 0,
      "outputs": [
        {
          "output_type": "stream",
          "text": [
            "Error: 7.349333460553483e+29\n",
            "Error: 7.202347253497748e+29\n",
            "Error: 1.021557364846618e+30\n",
            "Error: 5.952960445733715e+29\n",
            "Error: 1.0068586958445364e+30\n",
            "Error: 6.54090704360681e+29\n",
            "Error: 8.231253571281738e+29\n",
            "Error: 5.512000283875262e+29\n",
            "Error: 7.496320536359282e+29\n",
            "Error: 4.630080158561821e+29\n",
            "Layer 0 weights: \n",
            "[[SecureRational(-676131635355601824980815314944.000000)\n",
            "  SecureRational(117596567957933067653374541824.000000)\n",
            "  SecureRational(29404685140511850577453383680.000000)\n",
            "  SecureRational(-1117091091202080975386119766016.000000)]\n",
            " [SecureRational(970119410201829529631886147584.000000)\n",
            "  SecureRational(-999502149554020604187024293888.000000)\n",
            "  SecureRational(852529879103373677352198340608.000000)\n",
            "  SecureRational(146994337715222683376892772352.000000)]\n",
            " [SecureRational(676146112044109373040362520576.000000)\n",
            "  SecureRational(-911310174102698928134550454272.000000)\n",
            "  SecureRational(235185850609941379862430220288.000000)\n",
            "  SecureRational(1352284667518503827737417875456.000000)]]\n",
            "Layer 1 weights: \n",
            "[[SecureRational(558556808025536164830688313344.000000)]\n",
            " [SecureRational(-1087694079490510627778555019264.000000)]\n",
            " [SecureRational(-587939164078566691844323803136.000000)]\n",
            " [SecureRational(823132914780427694442272522240.000000)]]\n",
            "Prediction on [0 0 0]: 1 (29397367018775249478706266112.00000000)\n",
            "Prediction on [0 0 1]: 1 (29397355086244521323303796736.00000000)\n",
            "Prediction on [0 1 0]: 1 (970112086197266689336614584320.00000000)\n",
            "Prediction on [0 1 1]: 0 (-676138681955859083086247493632.00000000)\n",
            "Prediction on [1 0 0]: 1 (852522739999504191492460642304.00000000)\n",
            "Prediction on [1 0 1]: 1 (1087701404905992966008823873536.00000000)\n",
            "Prediction on [1 1 0]: 1 (529152059080795571766136143872.00000000)\n",
            "Prediction on [1 1 1]: 0 (-293973320056530835944553578496.00000000)\n"
          ],
          "name": "stdout"
        }
      ]
    },
    {
      "cell_type": "code",
      "metadata": {
        "id": "XixOkAdIMR36",
        "colab_type": "code",
        "colab": {},
        "outputId": "74df4f67-eb23-442a-8598-c42db1c5061c"
      },
      "source": [
        "secure(2 * np.random.random((3,1)) - 1)"
      ],
      "execution_count": 0,
      "outputs": [
        {
          "output_type": "execute_result",
          "data": {
            "text/plain": [
              "array([[SecureRational(-0.165390)],\n",
              "       [SecureRational(0.117380)],\n",
              "       [SecureRational(-0.719226)]], dtype=object)"
            ]
          },
          "metadata": {
            "tags": []
          },
          "execution_count": 19
        }
      ]
    },
    {
      "cell_type": "code",
      "metadata": {
        "id": "NAV3yZewMR38",
        "colab_type": "code",
        "colab": {}
      },
      "source": [
        "Q = 8191\n",
        "def encode(x):\n",
        "    return x % Q\n",
        "\n",
        "def decode(x):\n",
        "    return x if x <= Q/2 else x-Q"
      ],
      "execution_count": 0,
      "outputs": []
    },
    {
      "cell_type": "code",
      "metadata": {
        "id": "ickJGs_7MR3_",
        "colab_type": "code",
        "colab": {}
      },
      "source": [
        "# using Horner's rule\n",
        "\n",
        "def evaluate_at_point(coefs, point):\n",
        "    result = 0\n",
        "    for coef in reversed(coefs):\n",
        "        result = (coef + point * result) % Q\n",
        "    return result\n",
        "\n",
        "def egcd(a, b):\n",
        "    if a == 0:\n",
        "        return (b, 0, 1)\n",
        "    else:\n",
        "        g, y, x = egcd(b % a, a)\n",
        "        return (g, x - (b // a) * y, y)\n",
        "\n",
        "# from http://www.ucl.ac.uk/~ucahcjm/combopt/ext_gcd_python_programs.pdf\n",
        "def egcd_binary(a,b):\n",
        "    u, v, s, t, r = 1, 0, 0, 1, 0\n",
        "    while (a % 2 == 0) and (b % 2 == 0):\n",
        "        a, b, r = a//2, b//2, r+1\n",
        "    alpha, beta = a, b\n",
        "    while (a % 2 == 0):\n",
        "        a = a//2\n",
        "        if (u % 2 == 0) and (v % 2 == 0):\n",
        "            u, v = u//2, v//2\n",
        "        else:\n",
        "            u, v = (u + beta)//2, (v - alpha)//2\n",
        "    while a != b:\n",
        "        if (b % 2 == 0):\n",
        "            b = b//2\n",
        "            if (s % 2 == 0) and (t % 2 == 0):\n",
        "                s, t = s//2, t//2\n",
        "            else:\n",
        "                s, t = (s + beta)//2, (t - alpha)//2\n",
        "        elif b < a:\n",
        "            a, b, u, v, s, t = b, a, s, t, u, v\n",
        "        else:\n",
        "            b, s, t = b - a, s - u, t - v\n",
        "    return (2 ** r) * a, s, t\n",
        "\n",
        "\n",
        "def inverse(a):\n",
        "    _, b, _ = egcd_binary(a, Q)\n",
        "    return b\n",
        "\n",
        "# see https://en.wikipedia.org/wiki/Lagrange_polynomial\n",
        "\n",
        "def lagrange_constants_for_point(points, point):\n",
        "    constants = [0] * len(points)\n",
        "    for i in range(len(points)):\n",
        "        xi = points[i]\n",
        "        num = 1\n",
        "        denum = 1\n",
        "        for j in range(len(points)):\n",
        "            if j != i:\n",
        "                xj = points[j]\n",
        "                num = (num * (xj - point)) % Q\n",
        "                denum = (denum * (xj - xi)) % Q\n",
        "        constants[i] = (num * inverse(denum)) % Q\n",
        "    return constants\n",
        "\n",
        "def interpolate_at_point(points_values, point):\n",
        "    points, values = zip(*points_values)\n",
        "    constants = lagrange_constants_for_point(points, point)\n",
        "    return sum( vi * ci for vi, ci in zip(values, constants) ) % Q\n",
        "\n"
      ],
      "execution_count": 0,
      "outputs": []
    },
    {
      "cell_type": "code",
      "metadata": {
        "id": "bl7BRK-UMR4C",
        "colab_type": "code",
        "colab": {}
      },
      "source": [
        "#shamir sharing\n",
        "N = 10\n",
        "T = 4\n",
        "\n",
        "assert(T+1 <= N)\n",
        "\n",
        "def sample_shamir_polynomial(zero_value):\n",
        "    coefs = [zero_value] + [random.randrange(Q) for _ in range(T)]\n",
        "    return coefs\n",
        "\n",
        "SHARE_POINTS = [ p for p in range(1, N+1) ]\n",
        "assert(0 not in SHARE_POINTS)\n",
        "\n",
        "def shamir_share(secret):\n",
        "    polynomial = sample_shamir_polynomial(secret)\n",
        "    shares = [ evaluate_at_point(polynomial, p) for p in SHARE_POINTS ]\n",
        "    return shares\n",
        "\n",
        "def shamir_reconstruct(shares):\n",
        "    polynomial = [ (p,v) for p,v in zip(SHARE_POINTS, shares) if v is not None ]\n",
        "    secret = interpolate_at_point(polynomial, 0)\n",
        "    return secret\n",
        "\n",
        "shares = shamir_share(5)\n",
        "for i in range(N-(T+1)):\n",
        "    shares[i] = None\n",
        "#shares[-1] = None  # would fail; we need T+K points to reconstruct\n",
        "x = shamir_reconstruct(shares)\n",
        "assert(x == 5)\n",
        "\n",
        "def shamir_add(x, y):\n",
        "    return [ (xi + yi) % Q for xi, yi in zip(x, y) ]\n",
        "\n",
        "def shamir_sub(x, y):\n",
        "    return [ (xi - yi) % Q for xi, yi in zip(x, y) ]\n",
        "\n",
        "\n",
        "def shamir_mul(x, y):\n",
        "    return [ (xi * yi) % Q for xi, yi in zip(x, y) ]\n"
      ],
      "execution_count": 0,
      "outputs": []
    },
    {
      "cell_type": "code",
      "metadata": {
        "id": "sJCN2MqRMR4E",
        "colab_type": "code",
        "colab": {},
        "outputId": "ec33d7fb-b2b6-493f-ada8-41d961ff771f"
      },
      "source": [
        "class Shamir:\n",
        "    \n",
        "    def __init__(self, secret=None):\n",
        "        self.shares = shamir_share(encode(secret)) if secret is not None else []\n",
        "        self.degree = T\n",
        "    \n",
        "    def reveal(self):\n",
        "        #assert(self.degree+1 <= N)\n",
        "        return decode(shamir_reconstruct(self.shares))\n",
        "    \n",
        "    def __repr__(self):\n",
        "        return \"Shamir(%d)\" % self.reveal()\n",
        "    \n",
        "    def __add__(x, y):\n",
        "        z = Shamir()\n",
        "        z.shares = shamir_add(x.shares, y.shares)\n",
        "        z.degree = max(x.degree, y.degree)\n",
        "        return z\n",
        "    \n",
        "    def __sub__(x, y):\n",
        "        z = Shamir()\n",
        "        z.shares = shamir_sub(x.shares, y.shares)\n",
        "        z.degree = max(x.degree, y.degree)\n",
        "        return z\n",
        "    \n",
        "    def __mul__(x, y):\n",
        "        z = Shamir()\n",
        "        z.shares = shamir_mul(x.shares, y.shares)\n",
        "        z.degree = x.degree + y.degree\n",
        "        return z\n",
        "    \n",
        "    def __pow__(x, e):\n",
        "        #z = Shamir(1)\n",
        "        z =  Shamir(1);\n",
        "        for _ in range(e):\n",
        "            z = z * x   #Shamir(1) * x\n",
        "            a = z.reveal()\n",
        "            z = Shamir(a)\n",
        "        return z\n",
        "            \n",
        "       \n",
        "    \n",
        "x = Shamir(2)\n",
        "print(x)\n",
        "\n",
        "y = Shamir(3)\n",
        "print(y)\n",
        "\n",
        "z = x - y\n",
        "print(z)\n",
        "assert(z.reveal() == -1)\n",
        "\n",
        "v = x * y\n",
        "print(v)\n",
        "assert(v.reveal() == 6)\n",
        "\n",
        "po = x**6\n",
        "print(po)\n",
        "po.reveal()"
      ],
      "execution_count": 0,
      "outputs": [
        {
          "output_type": "stream",
          "text": [
            "Shamir(2)\n",
            "Shamir(3)\n",
            "Shamir(-1)\n",
            "Shamir(6)\n",
            "Shamir(64)\n"
          ],
          "name": "stdout"
        },
        {
          "output_type": "execute_result",
          "data": {
            "text/plain": [
              "64"
            ]
          },
          "metadata": {
            "tags": []
          },
          "execution_count": 23
        }
      ]
    },
    {
      "cell_type": "code",
      "metadata": {
        "id": "y3e_K3BUMR4G",
        "colab_type": "code",
        "colab": {},
        "outputId": "37124424-ec65-44aa-92b1-1260165a054f"
      },
      "source": [
        "a = Shamir(1)* Shamir(2)\n",
        "a.reveal()"
      ],
      "execution_count": 0,
      "outputs": [
        {
          "output_type": "execute_result",
          "data": {
            "text/plain": [
              "2"
            ]
          },
          "metadata": {
            "tags": []
          },
          "execution_count": 24
        }
      ]
    },
    {
      "cell_type": "code",
      "metadata": {
        "id": "_i9AqFR3MR4I",
        "colab_type": "code",
        "colab": {},
        "outputId": "9a3cf0cd-df34-4002-b0ff-1d763b854db0"
      },
      "source": [
        "shamir_share(encode(2))"
      ],
      "execution_count": 0,
      "outputs": [
        {
          "output_type": "execute_result",
          "data": {
            "text/plain": [
              "[5569, 7040, 3974, 4414, 314, 303, 5112, 7574, 815, 2827]"
            ]
          },
          "metadata": {
            "tags": []
          },
          "execution_count": 25
        }
      ]
    },
    {
      "cell_type": "code",
      "metadata": {
        "id": "-J92PE8GMR4K",
        "colab_type": "code",
        "colab": {}
      },
      "source": [
        "# helper functions to map array of numbers to and from secure data type\n",
        "secure = np.vectorize(lambda x: Shamir(x))\n",
        "reveal = np.vectorize(lambda x: x.reveal())"
      ],
      "execution_count": 0,
      "outputs": []
    },
    {
      "cell_type": "code",
      "metadata": {
        "id": "uE1fmI87MR4N",
        "colab_type": "code",
        "colab": {},
        "outputId": "99e19f22-0161-4b45-c695-edcdcbe9d522"
      },
      "source": [
        "shamir_share(encode(3))"
      ],
      "execution_count": 0,
      "outputs": [
        {
          "output_type": "execute_result",
          "data": {
            "text/plain": [
              "[5528, 6351, 6061, 6128, 5903, 2618, 7768, 6156, 5039, 1364]"
            ]
          },
          "metadata": {
            "tags": []
          },
          "execution_count": 27
        }
      ]
    },
    {
      "cell_type": "code",
      "metadata": {
        "id": "4apW1K3qMR4P",
        "colab_type": "code",
        "colab": {}
      },
      "source": [
        "class TwoLayerNetwork:\n",
        "\n",
        "    def __init__(self, sigmoid):\n",
        "        self.sigmoid = sigmoid\n",
        "    \n",
        "    def train(self, X, y, iterations=1000, alpha=1):\n",
        "\n",
        "        # prepare alpha value\n",
        "        alpha = secure(alpha)\n",
        "        \n",
        "        # initial weights \n",
        "        self.synapse0 = secure(2 * np.random.random((3,1)) - 1)\n",
        "\n",
        "        # training\n",
        "        for i in range(iterations):\n",
        "\n",
        "            # forward propagation\n",
        "            layer0 = X\n",
        "            layer1 = self.sigmoid.evaluate(np.dot(layer0, self.synapse0))\n",
        "\n",
        "            # back propagation\n",
        "            layer1_error = y - layer1\n",
        "            layer1_delta = layer1_error * self.sigmoid.derive(layer1)\n",
        "            \n",
        "            # provide error feed by revealing values\n",
        "            if (i+1) % (iterations//10) == 0:\n",
        "                print(\"Error: %s\" % np.mean(np.abs(reveal(layer1_error))))\n",
        "\n",
        "            # update\n",
        "            self.synapse0 += np.dot(layer0.T, layer1_delta) * alpha\n",
        "            \n",
        "    def predict(self, X):\n",
        "        layer0 = X\n",
        "        layer1 = self.sigmoid.evaluate(np.dot(layer0, self.synapse0))\n",
        "        return layer1\n",
        "    \n",
        "    def print_weights(self):\n",
        "        print(\"Layer 0 weights: \\n%s\" % self.synapse0)"
      ],
      "execution_count": 0,
      "outputs": []
    },
    {
      "cell_type": "code",
      "metadata": {
        "id": "YtO5nIyKMR4R",
        "colab_type": "code",
        "colab": {}
      },
      "source": [
        "class ThreeLayerNetwork:\n",
        "\n",
        "    def __init__(self, sigmoid):\n",
        "        self.sigmoid = sigmoid\n",
        "    \n",
        "    def train(self, X, y, iterations=1000, alpha=1):\n",
        "\n",
        "        # prepare alpha value\n",
        "        alpha = secure(alpha)\n",
        "        \n",
        "        # initial weights\n",
        "        self.synapse0 = secure(2 * np.random.random((3,4)) - 1)\n",
        "        self.synapse1 = secure(2 * np.random.random((4,1)) - 1)\n",
        "\n",
        "        # training\n",
        "        for i in range(iterations):\n",
        "    \n",
        "            # forward propagation\n",
        "            layer0 = X\n",
        "            layer1 = self.sigmoid.evaluate(np.dot(layer0, self.synapse0))\n",
        "            layer2 = self.sigmoid.evaluate(np.dot(layer1, self.synapse1))\n",
        "\n",
        "            # back propagation\n",
        "            layer2_error = y - layer2\n",
        "            layer2_delta = layer2_error * self.sigmoid.derive(layer2)\n",
        "            layer1_error = np.dot(layer2_delta, self.synapse1.T)\n",
        "            layer1_delta = layer1_error * self.sigmoid.derive(layer1)\n",
        "\n",
        "            # provide error feedback by revealing values\n",
        "            if (i+1) % (iterations//10) == 0:\n",
        "                print(\"Error: %s\" % np.mean(np.abs(reveal(layer2_error))))\n",
        "\n",
        "            # update\n",
        "            self.synapse1 += np.dot(layer1.T, layer2_delta) * alpha\n",
        "            self.synapse0 += np.dot(layer0.T, layer1_delta) * alpha\n",
        "            \n",
        "    def predict(self, X):\n",
        "        layer0 = X\n",
        "        layer1 = self.sigmoid.evaluate(np.dot(layer0, self.synapse0))\n",
        "        layer2 = self.sigmoid.evaluate(np.dot(layer1, self.synapse1))\n",
        "        return layer2\n",
        "    \n",
        "    def print_weights(self):\n",
        "        print(\"Layer 0 weights: \\n%s\" % self.synapse0)\n",
        "        print(\"Layer 1 weights: \\n%s\" % self.synapse1)"
      ],
      "execution_count": 0,
      "outputs": []
    },
    {
      "cell_type": "code",
      "metadata": {
        "id": "hJ8WxYZ3MR4U",
        "colab_type": "code",
        "colab": {}
      },
      "source": [
        "class Sigmoid_Shamir3:\n",
        "    \n",
        "    def __init__(self):\n",
        "        ONE = Shamir(1)\n",
        "        W0  = Shamir(1/2)\n",
        "        W1  = Shamir(1/4)\n",
        "        W3  = Shamir(-1/48)\n",
        "        self.sigmoid = np.vectorize(lambda x: W0 + (x * W1) + (x**3 * W3))\n",
        "        self.sigmoid_deriv = np.vectorize(lambda x: (ONE - x) * x)\n",
        "        \n",
        "    def evaluate(self, x):\n",
        "        return self.sigmoid(x)\n",
        "\n",
        "    def derive(self, x):\n",
        "        return self.sigmoid_deriv(x)"
      ],
      "execution_count": 0,
      "outputs": []
    },
    {
      "cell_type": "code",
      "metadata": {
        "id": "6tfp39fwMR4X",
        "colab_type": "code",
        "colab": {}
      },
      "source": [
        "class Sigmoid_Shamir9:\n",
        "    \n",
        "    def __init__(self):\n",
        "        ONE = Shamir(1)\n",
        "        W0  = Shamir(1/2)\n",
        "        W1  = Shamir(1/4)\n",
        "        W3  = Shamir(-1/48)\n",
        "        W5  = Shamir(1/480)\n",
        "        W7  = Shamir(-17/80640)\n",
        "        W9  = Shamir(31/1451520)\n",
        "        self.sigmoid = np.vectorize(lambda x: W0 + (x * W1) + (x**3 * W3) + (x**5 * W5) + (x**7 * W7) + (x**9 * W9))\n",
        "        self.sigmoid_deriv = np.vectorize(lambda x:(ONE - x) * x)\n",
        "        \n",
        "    def evaluate(self, x):\n",
        "        return self.sigmoid(x)\n",
        "\n",
        "    def derive(self, x):\n",
        "        return self.sigmoid_deriv(x)"
      ],
      "execution_count": 0,
      "outputs": []
    },
    {
      "cell_type": "code",
      "metadata": {
        "id": "g1S9n35YMR4Z",
        "colab_type": "code",
        "colab": {}
      },
      "source": [
        "class SigmoidInterpolated10_Shamir:\n",
        "    \n",
        "    def __init__(self):\n",
        "        ONE = Shamir(1)\n",
        "        W0  = Shamir(0.5)\n",
        "        W1  = Shamir(0.2159198015)\n",
        "        W3  = Shamir(-0.0082176259)\n",
        "        W5  = Shamir(0.0001825597)\n",
        "        W7  = Shamir(-0.0000018848)\n",
        "        W9  = Shamir(0.0000000072)\n",
        "        self.sigmoid = np.vectorize(lambda x: W0 + (x * W1) + (x**3 * W3) + (x**5 * W5) + (x**7 * W7) + (x**9 * W9))\n",
        "        self.sigmoid_deriv = np.vectorize(lambda x:(ONE - x) * x)\n",
        "        \n",
        "    def evaluate(self, x):\n",
        "        return self.sigmoid(x)\n",
        "\n",
        "    def derive(self, x):\n",
        "        return self.sigmoid_deriv(x)"
      ],
      "execution_count": 0,
      "outputs": []
    },
    {
      "cell_type": "code",
      "metadata": {
        "id": "GYGYmJtOMR4b",
        "colab_type": "code",
        "colab": {}
      },
      "source": [
        "X_full = np.array([\n",
        "            [0,0,0],\n",
        "            [0,0,1],\n",
        "            [0,1,0],\n",
        "            [0,1,1],\n",
        "            [1,0,0],\n",
        "            [1,0,1],\n",
        "            [1,1,0],\n",
        "            [1,1,1]\n",
        "        ])\n",
        "\n",
        "def evaluate(network):\n",
        "    for x in X_full:\n",
        "        score = reveal(network.predict(secure(x)))\n",
        "        prediction = 1 if score > 0.5 else 0\n",
        "        print(\"Prediction on %s: %s (%.8f)\" % (x, prediction, score))\n",
        "\n",
        "\n",
        "X_train = np.array([\n",
        "            [0,0,1],\n",
        "            [0,1,1],\n",
        "            [1,0,1],\n",
        "            [1,1,1]\n",
        "        ])\n",
        "\n",
        "y_train = np.array([[\n",
        "            0,\n",
        "            1,\n",
        "            1,\n",
        "            0\n",
        "        ]]).T"
      ],
      "execution_count": 0,
      "outputs": []
    },
    {
      "cell_type": "code",
      "metadata": {
        "id": "TIXG56V8MR4d",
        "colab_type": "code",
        "colab": {},
        "outputId": "3078255d-bf89-489f-fbca-5d22f38af754"
      },
      "source": [
        "# reseed to get reproducible results\n",
        "random.seed(1)\n",
        "np.random.seed(1)\n",
        "\n",
        "# pick approximation\n",
        "sigmoid = Sigmoid_Shamir9()\n",
        "\n",
        "# train\n",
        "network = ThreeLayerNetwork(sigmoid)\n",
        "network.train(secure(X_train), secure(y_train), 10000)\n",
        "network.print_weights()\n",
        "\n",
        "# evaluate predictions\n",
        "evaluate(network)"
      ],
      "execution_count": 0,
      "outputs": [
        {
          "output_type": "stream",
          "text": [
            "Error: 2543.0523524805903\n",
            "Error: 3114.206687889993\n",
            "Error: 1707.3038784861565\n"
          ],
          "name": "stdout"
        },
        {
          "output_type": "error",
          "ename": "KeyboardInterrupt",
          "evalue": "",
          "traceback": [
            "\u001b[1;31m---------------------------------------------------------------------------\u001b[0m",
            "\u001b[1;31mKeyboardInterrupt\u001b[0m                         Traceback (most recent call last)",
            "\u001b[1;32m<ipython-input-34-731776dd1e7b>\u001b[0m in \u001b[0;36m<module>\u001b[1;34m\u001b[0m\n\u001b[0;32m      8\u001b[0m \u001b[1;31m# train\u001b[0m\u001b[1;33m\u001b[0m\u001b[1;33m\u001b[0m\u001b[1;33m\u001b[0m\u001b[0m\n\u001b[0;32m      9\u001b[0m \u001b[0mnetwork\u001b[0m \u001b[1;33m=\u001b[0m \u001b[0mThreeLayerNetwork\u001b[0m\u001b[1;33m(\u001b[0m\u001b[0msigmoid\u001b[0m\u001b[1;33m)\u001b[0m\u001b[1;33m\u001b[0m\u001b[1;33m\u001b[0m\u001b[0m\n\u001b[1;32m---> 10\u001b[1;33m \u001b[0mnetwork\u001b[0m\u001b[1;33m.\u001b[0m\u001b[0mtrain\u001b[0m\u001b[1;33m(\u001b[0m\u001b[0msecure\u001b[0m\u001b[1;33m(\u001b[0m\u001b[0mX_train\u001b[0m\u001b[1;33m)\u001b[0m\u001b[1;33m,\u001b[0m \u001b[0msecure\u001b[0m\u001b[1;33m(\u001b[0m\u001b[0my_train\u001b[0m\u001b[1;33m)\u001b[0m\u001b[1;33m,\u001b[0m \u001b[1;36m10000\u001b[0m\u001b[1;33m)\u001b[0m\u001b[1;33m\u001b[0m\u001b[1;33m\u001b[0m\u001b[0m\n\u001b[0m\u001b[0;32m     11\u001b[0m \u001b[0mnetwork\u001b[0m\u001b[1;33m.\u001b[0m\u001b[0mprint_weights\u001b[0m\u001b[1;33m(\u001b[0m\u001b[1;33m)\u001b[0m\u001b[1;33m\u001b[0m\u001b[1;33m\u001b[0m\u001b[0m\n\u001b[0;32m     12\u001b[0m \u001b[1;33m\u001b[0m\u001b[0m\n",
            "\u001b[1;32m<ipython-input-29-f2db4a80b69e>\u001b[0m in \u001b[0;36mtrain\u001b[1;34m(self, X, y, iterations, alpha)\u001b[0m\n\u001b[0;32m     19\u001b[0m             \u001b[0mlayer0\u001b[0m \u001b[1;33m=\u001b[0m \u001b[0mX\u001b[0m\u001b[1;33m\u001b[0m\u001b[1;33m\u001b[0m\u001b[0m\n\u001b[0;32m     20\u001b[0m             \u001b[0mlayer1\u001b[0m \u001b[1;33m=\u001b[0m \u001b[0mself\u001b[0m\u001b[1;33m.\u001b[0m\u001b[0msigmoid\u001b[0m\u001b[1;33m.\u001b[0m\u001b[0mevaluate\u001b[0m\u001b[1;33m(\u001b[0m\u001b[0mnp\u001b[0m\u001b[1;33m.\u001b[0m\u001b[0mdot\u001b[0m\u001b[1;33m(\u001b[0m\u001b[0mlayer0\u001b[0m\u001b[1;33m,\u001b[0m \u001b[0mself\u001b[0m\u001b[1;33m.\u001b[0m\u001b[0msynapse0\u001b[0m\u001b[1;33m)\u001b[0m\u001b[1;33m)\u001b[0m\u001b[1;33m\u001b[0m\u001b[1;33m\u001b[0m\u001b[0m\n\u001b[1;32m---> 21\u001b[1;33m             \u001b[0mlayer2\u001b[0m \u001b[1;33m=\u001b[0m \u001b[0mself\u001b[0m\u001b[1;33m.\u001b[0m\u001b[0msigmoid\u001b[0m\u001b[1;33m.\u001b[0m\u001b[0mevaluate\u001b[0m\u001b[1;33m(\u001b[0m\u001b[0mnp\u001b[0m\u001b[1;33m.\u001b[0m\u001b[0mdot\u001b[0m\u001b[1;33m(\u001b[0m\u001b[0mlayer1\u001b[0m\u001b[1;33m,\u001b[0m \u001b[0mself\u001b[0m\u001b[1;33m.\u001b[0m\u001b[0msynapse1\u001b[0m\u001b[1;33m)\u001b[0m\u001b[1;33m)\u001b[0m\u001b[1;33m\u001b[0m\u001b[1;33m\u001b[0m\u001b[0m\n\u001b[0m\u001b[0;32m     22\u001b[0m \u001b[1;33m\u001b[0m\u001b[0m\n\u001b[0;32m     23\u001b[0m             \u001b[1;31m# back propagation\u001b[0m\u001b[1;33m\u001b[0m\u001b[1;33m\u001b[0m\u001b[1;33m\u001b[0m\u001b[0m\n",
            "\u001b[1;32m<ipython-input-31-4c4a85838bb8>\u001b[0m in \u001b[0;36mevaluate\u001b[1;34m(self, x)\u001b[0m\n\u001b[0;32m     13\u001b[0m \u001b[1;33m\u001b[0m\u001b[0m\n\u001b[0;32m     14\u001b[0m     \u001b[1;32mdef\u001b[0m \u001b[0mevaluate\u001b[0m\u001b[1;33m(\u001b[0m\u001b[0mself\u001b[0m\u001b[1;33m,\u001b[0m \u001b[0mx\u001b[0m\u001b[1;33m)\u001b[0m\u001b[1;33m:\u001b[0m\u001b[1;33m\u001b[0m\u001b[1;33m\u001b[0m\u001b[0m\n\u001b[1;32m---> 15\u001b[1;33m         \u001b[1;32mreturn\u001b[0m \u001b[0mself\u001b[0m\u001b[1;33m.\u001b[0m\u001b[0msigmoid\u001b[0m\u001b[1;33m(\u001b[0m\u001b[0mx\u001b[0m\u001b[1;33m)\u001b[0m\u001b[1;33m\u001b[0m\u001b[1;33m\u001b[0m\u001b[0m\n\u001b[0m\u001b[0;32m     16\u001b[0m \u001b[1;33m\u001b[0m\u001b[0m\n\u001b[0;32m     17\u001b[0m     \u001b[1;32mdef\u001b[0m \u001b[0mderive\u001b[0m\u001b[1;33m(\u001b[0m\u001b[0mself\u001b[0m\u001b[1;33m,\u001b[0m \u001b[0mx\u001b[0m\u001b[1;33m)\u001b[0m\u001b[1;33m:\u001b[0m\u001b[1;33m\u001b[0m\u001b[1;33m\u001b[0m\u001b[0m\n",
            "\u001b[1;32m~\\Anaconda3\\lib\\site-packages\\numpy\\lib\\function_base.py\u001b[0m in \u001b[0;36m__call__\u001b[1;34m(self, *args, **kwargs)\u001b[0m\n\u001b[0;32m   2089\u001b[0m             \u001b[0mvargs\u001b[0m\u001b[1;33m.\u001b[0m\u001b[0mextend\u001b[0m\u001b[1;33m(\u001b[0m\u001b[1;33m[\u001b[0m\u001b[0mkwargs\u001b[0m\u001b[1;33m[\u001b[0m\u001b[0m_n\u001b[0m\u001b[1;33m]\u001b[0m \u001b[1;32mfor\u001b[0m \u001b[0m_n\u001b[0m \u001b[1;32min\u001b[0m \u001b[0mnames\u001b[0m\u001b[1;33m]\u001b[0m\u001b[1;33m)\u001b[0m\u001b[1;33m\u001b[0m\u001b[1;33m\u001b[0m\u001b[0m\n\u001b[0;32m   2090\u001b[0m \u001b[1;33m\u001b[0m\u001b[0m\n\u001b[1;32m-> 2091\u001b[1;33m         \u001b[1;32mreturn\u001b[0m \u001b[0mself\u001b[0m\u001b[1;33m.\u001b[0m\u001b[0m_vectorize_call\u001b[0m\u001b[1;33m(\u001b[0m\u001b[0mfunc\u001b[0m\u001b[1;33m=\u001b[0m\u001b[0mfunc\u001b[0m\u001b[1;33m,\u001b[0m \u001b[0margs\u001b[0m\u001b[1;33m=\u001b[0m\u001b[0mvargs\u001b[0m\u001b[1;33m)\u001b[0m\u001b[1;33m\u001b[0m\u001b[1;33m\u001b[0m\u001b[0m\n\u001b[0m\u001b[0;32m   2092\u001b[0m \u001b[1;33m\u001b[0m\u001b[0m\n\u001b[0;32m   2093\u001b[0m     \u001b[1;32mdef\u001b[0m \u001b[0m_get_ufunc_and_otypes\u001b[0m\u001b[1;33m(\u001b[0m\u001b[0mself\u001b[0m\u001b[1;33m,\u001b[0m \u001b[0mfunc\u001b[0m\u001b[1;33m,\u001b[0m \u001b[0margs\u001b[0m\u001b[1;33m)\u001b[0m\u001b[1;33m:\u001b[0m\u001b[1;33m\u001b[0m\u001b[1;33m\u001b[0m\u001b[0m\n",
            "\u001b[1;32m~\\Anaconda3\\lib\\site-packages\\numpy\\lib\\function_base.py\u001b[0m in \u001b[0;36m_vectorize_call\u001b[1;34m(self, func, args)\u001b[0m\n\u001b[0;32m   2165\u001b[0m                       for a in args]\n\u001b[0;32m   2166\u001b[0m \u001b[1;33m\u001b[0m\u001b[0m\n\u001b[1;32m-> 2167\u001b[1;33m             \u001b[0moutputs\u001b[0m \u001b[1;33m=\u001b[0m \u001b[0mufunc\u001b[0m\u001b[1;33m(\u001b[0m\u001b[1;33m*\u001b[0m\u001b[0minputs\u001b[0m\u001b[1;33m)\u001b[0m\u001b[1;33m\u001b[0m\u001b[1;33m\u001b[0m\u001b[0m\n\u001b[0m\u001b[0;32m   2168\u001b[0m \u001b[1;33m\u001b[0m\u001b[0m\n\u001b[0;32m   2169\u001b[0m             \u001b[1;32mif\u001b[0m \u001b[0mufunc\u001b[0m\u001b[1;33m.\u001b[0m\u001b[0mnout\u001b[0m \u001b[1;33m==\u001b[0m \u001b[1;36m1\u001b[0m\u001b[1;33m:\u001b[0m\u001b[1;33m\u001b[0m\u001b[1;33m\u001b[0m\u001b[0m\n",
            "\u001b[1;32m<ipython-input-31-4c4a85838bb8>\u001b[0m in \u001b[0;36m<lambda>\u001b[1;34m(x)\u001b[0m\n\u001b[0;32m      9\u001b[0m         \u001b[0mW7\u001b[0m  \u001b[1;33m=\u001b[0m \u001b[0mShamir\u001b[0m\u001b[1;33m(\u001b[0m\u001b[1;33m-\u001b[0m\u001b[1;36m17\u001b[0m\u001b[1;33m/\u001b[0m\u001b[1;36m80640\u001b[0m\u001b[1;33m)\u001b[0m\u001b[1;33m\u001b[0m\u001b[1;33m\u001b[0m\u001b[0m\n\u001b[0;32m     10\u001b[0m         \u001b[0mW9\u001b[0m  \u001b[1;33m=\u001b[0m \u001b[0mShamir\u001b[0m\u001b[1;33m(\u001b[0m\u001b[1;36m31\u001b[0m\u001b[1;33m/\u001b[0m\u001b[1;36m1451520\u001b[0m\u001b[1;33m)\u001b[0m\u001b[1;33m\u001b[0m\u001b[1;33m\u001b[0m\u001b[0m\n\u001b[1;32m---> 11\u001b[1;33m         \u001b[0mself\u001b[0m\u001b[1;33m.\u001b[0m\u001b[0msigmoid\u001b[0m \u001b[1;33m=\u001b[0m \u001b[0mnp\u001b[0m\u001b[1;33m.\u001b[0m\u001b[0mvectorize\u001b[0m\u001b[1;33m(\u001b[0m\u001b[1;32mlambda\u001b[0m \u001b[0mx\u001b[0m\u001b[1;33m:\u001b[0m \u001b[0mW0\u001b[0m \u001b[1;33m+\u001b[0m \u001b[1;33m(\u001b[0m\u001b[0mx\u001b[0m \u001b[1;33m*\u001b[0m \u001b[0mW1\u001b[0m\u001b[1;33m)\u001b[0m \u001b[1;33m+\u001b[0m \u001b[1;33m(\u001b[0m\u001b[0mx\u001b[0m\u001b[1;33m**\u001b[0m\u001b[1;36m3\u001b[0m \u001b[1;33m*\u001b[0m \u001b[0mW3\u001b[0m\u001b[1;33m)\u001b[0m \u001b[1;33m+\u001b[0m \u001b[1;33m(\u001b[0m\u001b[0mx\u001b[0m\u001b[1;33m**\u001b[0m\u001b[1;36m5\u001b[0m \u001b[1;33m*\u001b[0m \u001b[0mW5\u001b[0m\u001b[1;33m)\u001b[0m \u001b[1;33m+\u001b[0m \u001b[1;33m(\u001b[0m\u001b[0mx\u001b[0m\u001b[1;33m**\u001b[0m\u001b[1;36m7\u001b[0m \u001b[1;33m*\u001b[0m \u001b[0mW7\u001b[0m\u001b[1;33m)\u001b[0m \u001b[1;33m+\u001b[0m \u001b[1;33m(\u001b[0m\u001b[0mx\u001b[0m\u001b[1;33m**\u001b[0m\u001b[1;36m9\u001b[0m \u001b[1;33m*\u001b[0m \u001b[0mW9\u001b[0m\u001b[1;33m)\u001b[0m\u001b[1;33m)\u001b[0m\u001b[1;33m\u001b[0m\u001b[1;33m\u001b[0m\u001b[0m\n\u001b[0m\u001b[0;32m     12\u001b[0m         \u001b[0mself\u001b[0m\u001b[1;33m.\u001b[0m\u001b[0msigmoid_deriv\u001b[0m \u001b[1;33m=\u001b[0m \u001b[0mnp\u001b[0m\u001b[1;33m.\u001b[0m\u001b[0mvectorize\u001b[0m\u001b[1;33m(\u001b[0m\u001b[1;32mlambda\u001b[0m \u001b[0mx\u001b[0m\u001b[1;33m:\u001b[0m\u001b[1;33m(\u001b[0m\u001b[0mONE\u001b[0m \u001b[1;33m-\u001b[0m \u001b[0mx\u001b[0m\u001b[1;33m)\u001b[0m \u001b[1;33m*\u001b[0m \u001b[0mx\u001b[0m\u001b[1;33m)\u001b[0m\u001b[1;33m\u001b[0m\u001b[1;33m\u001b[0m\u001b[0m\n\u001b[0;32m     13\u001b[0m \u001b[1;33m\u001b[0m\u001b[0m\n",
            "\u001b[1;32m<ipython-input-23-bf7948d19fdc>\u001b[0m in \u001b[0;36m__pow__\u001b[1;34m(x, e)\u001b[0m\n\u001b[0;32m     36\u001b[0m             \u001b[0mz\u001b[0m \u001b[1;33m=\u001b[0m \u001b[0mz\u001b[0m \u001b[1;33m*\u001b[0m \u001b[0mx\u001b[0m   \u001b[1;31m#Shamir(1) * x\u001b[0m\u001b[1;33m\u001b[0m\u001b[1;33m\u001b[0m\u001b[0m\n\u001b[0;32m     37\u001b[0m             \u001b[0ma\u001b[0m \u001b[1;33m=\u001b[0m \u001b[0mz\u001b[0m\u001b[1;33m.\u001b[0m\u001b[0mreveal\u001b[0m\u001b[1;33m(\u001b[0m\u001b[1;33m)\u001b[0m\u001b[1;33m\u001b[0m\u001b[1;33m\u001b[0m\u001b[0m\n\u001b[1;32m---> 38\u001b[1;33m             \u001b[0mz\u001b[0m \u001b[1;33m=\u001b[0m \u001b[0mShamir\u001b[0m\u001b[1;33m(\u001b[0m\u001b[0ma\u001b[0m\u001b[1;33m)\u001b[0m\u001b[1;33m\u001b[0m\u001b[1;33m\u001b[0m\u001b[0m\n\u001b[0m\u001b[0;32m     39\u001b[0m         \u001b[1;32mreturn\u001b[0m \u001b[0mz\u001b[0m\u001b[1;33m\u001b[0m\u001b[1;33m\u001b[0m\u001b[0m\n\u001b[0;32m     40\u001b[0m \u001b[1;33m\u001b[0m\u001b[0m\n",
            "\u001b[1;32m<ipython-input-23-bf7948d19fdc>\u001b[0m in \u001b[0;36m__init__\u001b[1;34m(self, secret)\u001b[0m\n\u001b[0;32m      2\u001b[0m \u001b[1;33m\u001b[0m\u001b[0m\n\u001b[0;32m      3\u001b[0m     \u001b[1;32mdef\u001b[0m \u001b[0m__init__\u001b[0m\u001b[1;33m(\u001b[0m\u001b[0mself\u001b[0m\u001b[1;33m,\u001b[0m \u001b[0msecret\u001b[0m\u001b[1;33m=\u001b[0m\u001b[1;32mNone\u001b[0m\u001b[1;33m)\u001b[0m\u001b[1;33m:\u001b[0m\u001b[1;33m\u001b[0m\u001b[1;33m\u001b[0m\u001b[0m\n\u001b[1;32m----> 4\u001b[1;33m         \u001b[0mself\u001b[0m\u001b[1;33m.\u001b[0m\u001b[0mshares\u001b[0m \u001b[1;33m=\u001b[0m \u001b[0mshamir_share\u001b[0m\u001b[1;33m(\u001b[0m\u001b[0mencode\u001b[0m\u001b[1;33m(\u001b[0m\u001b[0msecret\u001b[0m\u001b[1;33m)\u001b[0m\u001b[1;33m)\u001b[0m \u001b[1;32mif\u001b[0m \u001b[0msecret\u001b[0m \u001b[1;32mis\u001b[0m \u001b[1;32mnot\u001b[0m \u001b[1;32mNone\u001b[0m \u001b[1;32melse\u001b[0m \u001b[1;33m[\u001b[0m\u001b[1;33m]\u001b[0m\u001b[1;33m\u001b[0m\u001b[1;33m\u001b[0m\u001b[0m\n\u001b[0m\u001b[0;32m      5\u001b[0m         \u001b[0mself\u001b[0m\u001b[1;33m.\u001b[0m\u001b[0mdegree\u001b[0m \u001b[1;33m=\u001b[0m \u001b[0mT\u001b[0m\u001b[1;33m\u001b[0m\u001b[1;33m\u001b[0m\u001b[0m\n\u001b[0;32m      6\u001b[0m \u001b[1;33m\u001b[0m\u001b[0m\n",
            "\u001b[1;32m<ipython-input-22-79b2a2bbb2f3>\u001b[0m in \u001b[0;36mshamir_share\u001b[1;34m(secret)\u001b[0m\n\u001b[0;32m     13\u001b[0m \u001b[1;33m\u001b[0m\u001b[0m\n\u001b[0;32m     14\u001b[0m \u001b[1;32mdef\u001b[0m \u001b[0mshamir_share\u001b[0m\u001b[1;33m(\u001b[0m\u001b[0msecret\u001b[0m\u001b[1;33m)\u001b[0m\u001b[1;33m:\u001b[0m\u001b[1;33m\u001b[0m\u001b[1;33m\u001b[0m\u001b[0m\n\u001b[1;32m---> 15\u001b[1;33m     \u001b[0mpolynomial\u001b[0m \u001b[1;33m=\u001b[0m \u001b[0msample_shamir_polynomial\u001b[0m\u001b[1;33m(\u001b[0m\u001b[0msecret\u001b[0m\u001b[1;33m)\u001b[0m\u001b[1;33m\u001b[0m\u001b[1;33m\u001b[0m\u001b[0m\n\u001b[0m\u001b[0;32m     16\u001b[0m     \u001b[0mshares\u001b[0m \u001b[1;33m=\u001b[0m \u001b[1;33m[\u001b[0m \u001b[0mevaluate_at_point\u001b[0m\u001b[1;33m(\u001b[0m\u001b[0mpolynomial\u001b[0m\u001b[1;33m,\u001b[0m \u001b[0mp\u001b[0m\u001b[1;33m)\u001b[0m \u001b[1;32mfor\u001b[0m \u001b[0mp\u001b[0m \u001b[1;32min\u001b[0m \u001b[0mSHARE_POINTS\u001b[0m \u001b[1;33m]\u001b[0m\u001b[1;33m\u001b[0m\u001b[1;33m\u001b[0m\u001b[0m\n\u001b[0;32m     17\u001b[0m     \u001b[1;32mreturn\u001b[0m \u001b[0mshares\u001b[0m\u001b[1;33m\u001b[0m\u001b[1;33m\u001b[0m\u001b[0m\n",
            "\u001b[1;32m<ipython-input-22-79b2a2bbb2f3>\u001b[0m in \u001b[0;36msample_shamir_polynomial\u001b[1;34m(zero_value)\u001b[0m\n\u001b[0;32m      6\u001b[0m \u001b[1;33m\u001b[0m\u001b[0m\n\u001b[0;32m      7\u001b[0m \u001b[1;32mdef\u001b[0m \u001b[0msample_shamir_polynomial\u001b[0m\u001b[1;33m(\u001b[0m\u001b[0mzero_value\u001b[0m\u001b[1;33m)\u001b[0m\u001b[1;33m:\u001b[0m\u001b[1;33m\u001b[0m\u001b[1;33m\u001b[0m\u001b[0m\n\u001b[1;32m----> 8\u001b[1;33m     \u001b[0mcoefs\u001b[0m \u001b[1;33m=\u001b[0m \u001b[1;33m[\u001b[0m\u001b[0mzero_value\u001b[0m\u001b[1;33m]\u001b[0m \u001b[1;33m+\u001b[0m \u001b[1;33m[\u001b[0m\u001b[0mrandom\u001b[0m\u001b[1;33m.\u001b[0m\u001b[0mrandrange\u001b[0m\u001b[1;33m(\u001b[0m\u001b[0mQ\u001b[0m\u001b[1;33m)\u001b[0m \u001b[1;32mfor\u001b[0m \u001b[0m_\u001b[0m \u001b[1;32min\u001b[0m \u001b[0mrange\u001b[0m\u001b[1;33m(\u001b[0m\u001b[0mT\u001b[0m\u001b[1;33m)\u001b[0m\u001b[1;33m]\u001b[0m\u001b[1;33m\u001b[0m\u001b[1;33m\u001b[0m\u001b[0m\n\u001b[0m\u001b[0;32m      9\u001b[0m     \u001b[1;32mreturn\u001b[0m \u001b[0mcoefs\u001b[0m\u001b[1;33m\u001b[0m\u001b[1;33m\u001b[0m\u001b[0m\n\u001b[0;32m     10\u001b[0m \u001b[1;33m\u001b[0m\u001b[0m\n",
            "\u001b[1;32m<ipython-input-22-79b2a2bbb2f3>\u001b[0m in \u001b[0;36m<listcomp>\u001b[1;34m(.0)\u001b[0m\n\u001b[0;32m      6\u001b[0m \u001b[1;33m\u001b[0m\u001b[0m\n\u001b[0;32m      7\u001b[0m \u001b[1;32mdef\u001b[0m \u001b[0msample_shamir_polynomial\u001b[0m\u001b[1;33m(\u001b[0m\u001b[0mzero_value\u001b[0m\u001b[1;33m)\u001b[0m\u001b[1;33m:\u001b[0m\u001b[1;33m\u001b[0m\u001b[1;33m\u001b[0m\u001b[0m\n\u001b[1;32m----> 8\u001b[1;33m     \u001b[0mcoefs\u001b[0m \u001b[1;33m=\u001b[0m \u001b[1;33m[\u001b[0m\u001b[0mzero_value\u001b[0m\u001b[1;33m]\u001b[0m \u001b[1;33m+\u001b[0m \u001b[1;33m[\u001b[0m\u001b[0mrandom\u001b[0m\u001b[1;33m.\u001b[0m\u001b[0mrandrange\u001b[0m\u001b[1;33m(\u001b[0m\u001b[0mQ\u001b[0m\u001b[1;33m)\u001b[0m \u001b[1;32mfor\u001b[0m \u001b[0m_\u001b[0m \u001b[1;32min\u001b[0m \u001b[0mrange\u001b[0m\u001b[1;33m(\u001b[0m\u001b[0mT\u001b[0m\u001b[1;33m)\u001b[0m\u001b[1;33m]\u001b[0m\u001b[1;33m\u001b[0m\u001b[1;33m\u001b[0m\u001b[0m\n\u001b[0m\u001b[0;32m      9\u001b[0m     \u001b[1;32mreturn\u001b[0m \u001b[0mcoefs\u001b[0m\u001b[1;33m\u001b[0m\u001b[1;33m\u001b[0m\u001b[0m\n\u001b[0;32m     10\u001b[0m \u001b[1;33m\u001b[0m\u001b[0m\n",
            "\u001b[1;32m~\\Anaconda3\\lib\\random.py\u001b[0m in \u001b[0;36mrandrange\u001b[1;34m(self, start, stop, step, _int)\u001b[0m\n\u001b[0;32m    187\u001b[0m         \u001b[1;32mif\u001b[0m \u001b[0mstop\u001b[0m \u001b[1;32mis\u001b[0m \u001b[1;32mNone\u001b[0m\u001b[1;33m:\u001b[0m\u001b[1;33m\u001b[0m\u001b[1;33m\u001b[0m\u001b[0m\n\u001b[0;32m    188\u001b[0m             \u001b[1;32mif\u001b[0m \u001b[0mistart\u001b[0m \u001b[1;33m>\u001b[0m \u001b[1;36m0\u001b[0m\u001b[1;33m:\u001b[0m\u001b[1;33m\u001b[0m\u001b[1;33m\u001b[0m\u001b[0m\n\u001b[1;32m--> 189\u001b[1;33m                 \u001b[1;32mreturn\u001b[0m \u001b[0mself\u001b[0m\u001b[1;33m.\u001b[0m\u001b[0m_randbelow\u001b[0m\u001b[1;33m(\u001b[0m\u001b[0mistart\u001b[0m\u001b[1;33m)\u001b[0m\u001b[1;33m\u001b[0m\u001b[1;33m\u001b[0m\u001b[0m\n\u001b[0m\u001b[0;32m    190\u001b[0m             \u001b[1;32mraise\u001b[0m \u001b[0mValueError\u001b[0m\u001b[1;33m(\u001b[0m\u001b[1;34m\"empty range for randrange()\"\u001b[0m\u001b[1;33m)\u001b[0m\u001b[1;33m\u001b[0m\u001b[1;33m\u001b[0m\u001b[0m\n\u001b[0;32m    191\u001b[0m \u001b[1;33m\u001b[0m\u001b[0m\n",
            "\u001b[1;32m~\\Anaconda3\\lib\\random.py\u001b[0m in \u001b[0;36m_randbelow\u001b[1;34m(self, n, int, maxsize, type, Method, BuiltinMethod)\u001b[0m\n\u001b[0;32m    233\u001b[0m             \u001b[0mk\u001b[0m \u001b[1;33m=\u001b[0m \u001b[0mn\u001b[0m\u001b[1;33m.\u001b[0m\u001b[0mbit_length\u001b[0m\u001b[1;33m(\u001b[0m\u001b[1;33m)\u001b[0m  \u001b[1;31m# don't use (n-1) here because n can be 1\u001b[0m\u001b[1;33m\u001b[0m\u001b[1;33m\u001b[0m\u001b[0m\n\u001b[0;32m    234\u001b[0m             \u001b[0mr\u001b[0m \u001b[1;33m=\u001b[0m \u001b[0mgetrandbits\u001b[0m\u001b[1;33m(\u001b[0m\u001b[0mk\u001b[0m\u001b[1;33m)\u001b[0m          \u001b[1;31m# 0 <= r < 2**k\u001b[0m\u001b[1;33m\u001b[0m\u001b[1;33m\u001b[0m\u001b[0m\n\u001b[1;32m--> 235\u001b[1;33m             \u001b[1;32mwhile\u001b[0m \u001b[0mr\u001b[0m \u001b[1;33m>=\u001b[0m \u001b[0mn\u001b[0m\u001b[1;33m:\u001b[0m\u001b[1;33m\u001b[0m\u001b[1;33m\u001b[0m\u001b[0m\n\u001b[0m\u001b[0;32m    236\u001b[0m                 \u001b[0mr\u001b[0m \u001b[1;33m=\u001b[0m \u001b[0mgetrandbits\u001b[0m\u001b[1;33m(\u001b[0m\u001b[0mk\u001b[0m\u001b[1;33m)\u001b[0m\u001b[1;33m\u001b[0m\u001b[1;33m\u001b[0m\u001b[0m\n\u001b[0;32m    237\u001b[0m             \u001b[1;32mreturn\u001b[0m \u001b[0mr\u001b[0m\u001b[1;33m\u001b[0m\u001b[1;33m\u001b[0m\u001b[0m\n",
            "\u001b[1;31mKeyboardInterrupt\u001b[0m: "
          ]
        }
      ]
    },
    {
      "cell_type": "code",
      "metadata": {
        "id": "WBJxUEg6MR4g",
        "colab_type": "code",
        "colab": {}
      },
      "source": [
        ""
      ],
      "execution_count": 0,
      "outputs": []
    }
  ]
}